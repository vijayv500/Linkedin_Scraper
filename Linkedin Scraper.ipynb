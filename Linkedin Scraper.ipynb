{
 "cells": [
  {
   "cell_type": "code",
   "execution_count": null,
   "id": "d095f8dc",
   "metadata": {},
   "outputs": [],
   "source": [
    "from selenium import webdriver\n",
    "import time\n",
    "import pandas as pd\n",
    "from selenium.webdriver.common.by import By\n",
    "from time import sleep\n",
    "from random import randint\n",
    "\n",
    "pd.set_option('display.max_columns', 200) #Jupyter notebook displays 150 columns\n",
    "pd.set_option('display.max_rows', 200)"
   ]
  },
  {
   "cell_type": "code",
   "execution_count": null,
   "id": "03b1bfa2",
   "metadata": {},
   "outputs": [],
   "source": [
    "url = f\"https://www.linkedin.com/jobs/search?keywords=%22{'data'}%20{'engineer'}%22&location=India&geoId=102713980&trk=public_jobs_jobs-search-bar_search-submit&position=1&pageNum=0\""
   ]
  },
  {
   "cell_type": "code",
   "execution_count": null,
   "id": "fd9f47b4",
   "metadata": {},
   "outputs": [],
   "source": [
    "chrome_options = webdriver.ChromeOptions()\n",
    "chrome_options.add_argument('--headless')\n",
    "chrome_options.add_argument('--no-sandbox')\n",
    "chrome_options.add_argument('--disable-dev-shm-usage')\n",
    "wd = webdriver.Chrome(options = chrome_options)\n",
    "wd.get(url)"
   ]
  },
  {
   "cell_type": "code",
   "execution_count": null,
   "id": "8e3bee36",
   "metadata": {},
   "outputs": [],
   "source": []
  },
  {
   "cell_type": "code",
   "execution_count": null,
   "id": "c02b56c4",
   "metadata": {},
   "outputs": [],
   "source": [
    "no_of_jobs = wd.find_element(By.CSS_SELECTOR, \"span[class='results-context-header__job-count']\").get_attribute('innerText')"
   ]
  },
  {
   "cell_type": "code",
   "execution_count": null,
   "id": "6570cc59",
   "metadata": {},
   "outputs": [],
   "source": [
    "no_of_jobs"
   ]
  },
  {
   "cell_type": "code",
   "execution_count": null,
   "id": "5b653d23",
   "metadata": {},
   "outputs": [],
   "source": [
    "no_of_jobs = no_of_jobs.replace(',','').replace('+','')"
   ]
  },
  {
   "cell_type": "code",
   "execution_count": null,
   "id": "f535e974",
   "metadata": {},
   "outputs": [],
   "source": [
    "no_of_jobs = int(no_of_jobs)\n",
    "no_of_jobs"
   ]
  },
  {
   "cell_type": "code",
   "execution_count": null,
   "id": "803f8e97",
   "metadata": {},
   "outputs": [],
   "source": []
  },
  {
   "cell_type": "code",
   "execution_count": null,
   "id": "dae3a1d7",
   "metadata": {},
   "outputs": [],
   "source": [
    "i=1 #scroll till \"LOAD MORE RESULTS\" appears on the search results page\n",
    "\n",
    "while i <= 6: \n",
    "    try:\n",
    "        wd.execute_script(\"window.scrollTo(0, document.body.scrollHeight);\")\n",
    "        print(\"Scolling Page: \", i)\n",
    "        i = i + 1\n",
    "        sleep(randint(7,10))\n",
    "    except:\n",
    "        i = i+1\n",
    "        print(\"passing....\")\n",
    "        pass"
   ]
  },
  {
   "cell_type": "code",
   "execution_count": null,
   "id": "c91a5b95",
   "metadata": {},
   "outputs": [],
   "source": [
    "j = 1 #Keeps scrolling by clicking LOAD MORE RESULTS button\n",
    "\n",
    "while i<(no_of_jobs/25):\n",
    "    try:\n",
    "        load_more_button = wd.find_element(By.CSS_SELECTOR, \"button[aria-label='Load more results']\").click()\n",
    "        print(\"Scrolling Page: \", i)\n",
    "        j = j + 1\n",
    "        sleep(randint(10,15))\n",
    "    except:\n",
    "        j = j+1\n",
    "        print(\"passing....\")\n",
    "        pass"
   ]
  },
  {
   "cell_type": "code",
   "execution_count": null,
   "id": "52ceb8a9",
   "metadata": {},
   "outputs": [],
   "source": []
  },
  {
   "cell_type": "code",
   "execution_count": null,
   "id": "f93e8e17",
   "metadata": {},
   "outputs": [],
   "source": [
    "jobs_list = wd.find_element(By.CLASS_NAME, \"jobs-search__results-list\")"
   ]
  },
  {
   "cell_type": "code",
   "execution_count": null,
   "id": "1a2f9c46",
   "metadata": {},
   "outputs": [],
   "source": [
    "jobs = jobs_list.find_elements(By.TAG_NAME,'li')"
   ]
  },
  {
   "cell_type": "code",
   "execution_count": null,
   "id": "05ea7d58",
   "metadata": {},
   "outputs": [],
   "source": [
    "len(jobs)"
   ]
  },
  {
   "cell_type": "code",
   "execution_count": null,
   "id": "103add6d",
   "metadata": {},
   "outputs": [],
   "source": [
    "title = []\n",
    "company = []\n",
    "location = []\n",
    "date = []"
   ]
  },
  {
   "cell_type": "code",
   "execution_count": null,
   "id": "e0f91ee2",
   "metadata": {},
   "outputs": [],
   "source": [
    "for job in jobs:\n",
    "    \n",
    "    job_title = job.find_element(By.CSS_SELECTOR, \"h3[class='base-search-card__title']\").get_attribute('innerText')\n",
    "    title.append(job_title)\n",
    "    \n",
    "    job_company = job.find_element(By.CSS_SELECTOR, \"h4[class='base-search-card__subtitle']\").get_attribute('innerText')\n",
    "    company.append(job_company)\n",
    "    \n",
    "    job_location = job.find_element(By.CSS_SELECTOR, \"span[class='job-search-card__location']\").get_attribute('innerText')\n",
    "    location.append(job_location)\n",
    "    \n",
    "    job_date = job.find_element(By.CSS_SELECTOR, \"div>div>time\").get_attribute('datetime')\n",
    "    date.append(job_date)"
   ]
  },
  {
   "cell_type": "code",
   "execution_count": null,
   "id": "278913c7",
   "metadata": {},
   "outputs": [],
   "source": []
  },
  {
   "cell_type": "code",
   "execution_count": null,
   "id": "60836118",
   "metadata": {},
   "outputs": [],
   "source": [
    "dict = {'title':title, 'company':company, 'location':location, 'date':date}"
   ]
  },
  {
   "cell_type": "code",
   "execution_count": null,
   "id": "2ceb9899",
   "metadata": {},
   "outputs": [],
   "source": [
    "df = pd.DataFrame(dict)"
   ]
  },
  {
   "cell_type": "code",
   "execution_count": null,
   "id": "bc899e75",
   "metadata": {},
   "outputs": [],
   "source": [
    "df.to_csv('data_engineer.csv', index = False)"
   ]
  },
  {
   "cell_type": "code",
   "execution_count": null,
   "id": "ad6f2095",
   "metadata": {},
   "outputs": [],
   "source": []
  }
 ],
 "metadata": {
  "kernelspec": {
   "display_name": "Python 3.8.8 64-bit ('base': conda)",
   "language": "python",
   "name": "python388jvsc74a57bd0cd78fef2128015050713e82ca51c6520b11aee7c9ee8df750520bbbc7384cbaa"
  },
  "language_info": {
   "codemirror_mode": {
    "name": "ipython",
    "version": 3
   },
   "file_extension": ".py",
   "mimetype": "text/x-python",
   "name": "python",
   "nbconvert_exporter": "python",
   "pygments_lexer": "ipython3",
   "version": "3.9.7"
  }
 },
 "nbformat": 4,
 "nbformat_minor": 5
}
